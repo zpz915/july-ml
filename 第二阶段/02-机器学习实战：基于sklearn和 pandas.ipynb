{
 "cells": [
  {
   "cell_type": "markdown",
   "metadata": {},
   "source": [
    "***\n",
    "\n",
    "## ML实战 第一课实训\n",
    "\n",
    "####  实训提交说明：\n",
    "- 位置：实训文件统一放置于/0.Teacher/Exercise/ML实战/1/下\n",
    "- 文件名：请先复制该notebook文件，并重新命名为(课程名)+(您姓名的全拼)，并按要求完成后保存\n",
    "- 时间：课程结束后的第二天前提交。\n",
    "- 注意：请勿抄袭，移动，修改，删除其他同学和原始空白的练习文件。\n",
    "***"
   ]
  },
  {
   "cell_type": "code",
   "execution_count": null,
   "metadata": {},
   "outputs": [],
   "source": []
  },
  {
   "cell_type": "code",
   "execution_count": 1,
   "metadata": {
    "ExecuteTime": {
     "end_time": "2021-01-09T07:37:44.172510Z",
     "start_time": "2021-01-09T07:37:43.938328Z"
    }
   },
   "outputs": [],
   "source": [
    "import pandas as pd\n",
    "import numpy as np"
   ]
  },
  {
   "cell_type": "markdown",
   "metadata": {},
   "source": [
    "<font color='red'> **1、使用sklearn模型评价，计算AUC、F1** </font>"
   ]
  },
  {
   "cell_type": "code",
   "execution_count": 7,
   "metadata": {
    "ExecuteTime": {
     "end_time": "2021-01-09T07:41:16.006635Z",
     "start_time": "2021-01-09T07:41:16.001531Z"
    }
   },
   "outputs": [],
   "source": [
    "pred =  [0, 1, 0, 1, 0, 1, 1]\n",
    "label = [1, 1, 1, 0, 0, 0, 1]\n",
    "\n",
    "# 提示从sklearn import相关函数\n",
    "# https://scikit-learn.org/stable/modules/classes.html#sklearn-metrics-metrics\n",
    "\n",
    "# 计算AUC\n",
    "\n",
    "# 计算F1"
   ]
  },
  {
   "cell_type": "code",
   "execution_count": 8,
   "metadata": {
    "ExecuteTime": {
     "end_time": "2021-01-09T07:41:16.774701Z",
     "start_time": "2021-01-09T07:41:16.420176Z"
    }
   },
   "outputs": [
    {
     "name": "stdout",
     "output_type": "stream",
     "text": [
      "              precision    recall  f1-score   support\n",
      "\n",
      "           0       0.33      0.33      0.33         3\n",
      "           1       0.50      0.50      0.50         4\n",
      "\n",
      "    accuracy                           0.43         7\n",
      "   macro avg       0.42      0.42      0.42         7\n",
      "weighted avg       0.43      0.43      0.43         7\n",
      "\n"
     ]
    }
   ],
   "source": [
    "from sklearn.metrics import classification_report\n",
    "\n",
    "# 也可以直接使用classification_report直接计算\n",
    "print(classification_report(pred, label))"
   ]
  },
  {
   "cell_type": "code",
   "execution_count": 16,
   "metadata": {
    "ExecuteTime": {
     "end_time": "2021-01-09T07:44:53.215267Z",
     "start_time": "2021-01-09T07:44:53.030240Z"
    }
   },
   "outputs": [
    {
     "data": {
      "text/plain": [
       "0.9822222222222222"
      ]
     },
     "execution_count": 16,
     "metadata": {},
     "output_type": "execute_result"
    }
   ],
   "source": [
    "from sklearn.datasets import load_digits\n",
    "from sklearn import neighbors, preprocessing\n",
    "from sklearn.model_selection import train_test_split\n",
    "from sklearn.metrics import accuracy_score\n",
    "\n",
    "digits = load_digits()\n",
    "X, y = digits.data[:, :], digits.target\n",
    "\n",
    "X_train, X_test, y_train, y_test = train_test_split(X, y, random_state=33)"
   ]
  },
  {
   "cell_type": "markdown",
   "metadata": {
    "ExecuteTime": {
     "end_time": "2021-01-09T07:57:08.387014Z",
     "start_time": "2021-01-09T07:57:08.382492Z"
    }
   },
   "source": [
    "<font color='red'> **2、使用KNN模型完成对`X_train`训练，并对`X_test`进行预测，计算得分。** </font>"
   ]
  },
  {
   "cell_type": "code",
   "execution_count": 1,
   "metadata": {
    "ExecuteTime": {
     "end_time": "2021-01-09T08:05:08.913257Z",
     "start_time": "2021-01-09T08:05:08.909381Z"
    }
   },
   "outputs": [],
   "source": [
    "# neighbors.KNeighborsClassifier, 验证K在不同取值下的精度\n"
   ]
  },
  {
   "cell_type": "markdown",
   "metadata": {
    "ExecuteTime": {
     "end_time": "2021-01-09T07:59:50.633283Z",
     "start_time": "2021-01-09T07:59:50.628559Z"
    }
   },
   "source": [
    "<font color='red'> **3、选择合适数据归一化方法对数据进行归一化，然后训练预测。** </font>"
   ]
  },
  {
   "cell_type": "code",
   "execution_count": null,
   "metadata": {},
   "outputs": [],
   "source": [
    "# 例如preprocessing.MinMaxScaler\n"
   ]
  },
  {
   "cell_type": "markdown",
   "metadata": {
    "ExecuteTime": {
     "end_time": "2021-01-09T08:02:36.856863Z",
     "start_time": "2021-01-09T08:02:36.852110Z"
    }
   },
   "source": [
    "<font color='red'> **4、选择树模型、SVC模型完成建模，计算得分。** </font>"
   ]
  },
  {
   "cell_type": "code",
   "execution_count": 2,
   "metadata": {
    "ExecuteTime": {
     "end_time": "2021-01-09T08:05:43.524612Z",
     "start_time": "2021-01-09T08:05:43.521425Z"
    }
   },
   "outputs": [],
   "source": [
    "# sklearn.svm.SVC\n",
    "\n",
    "# sklearn.tree.DecisionTreeClassifier\n"
   ]
  }
 ],
 "metadata": {
  "kernelspec": {
   "display_name": "Python 3",
   "language": "python",
   "name": "python3"
  },
  "language_info": {
   "codemirror_mode": {
    "name": "ipython",
    "version": 3
   },
   "file_extension": ".py",
   "mimetype": "text/x-python",
   "name": "python",
   "nbconvert_exporter": "python",
   "pygments_lexer": "ipython3",
   "version": "3.5.2"
  },
  "toc": {
   "base_numbering": 1,
   "nav_menu": {},
   "number_sections": true,
   "sideBar": true,
   "skip_h1_title": false,
   "title_cell": "Table of Contents",
   "title_sidebar": "Contents",
   "toc_cell": false,
   "toc_position": {},
   "toc_section_display": true,
   "toc_window_display": false
  }
 },
 "nbformat": 4,
 "nbformat_minor": 2
}
